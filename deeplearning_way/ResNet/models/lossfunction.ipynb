{
 "cells": [
  {
   "cell_type": "code",
   "execution_count": 5,
   "metadata": {},
   "outputs": [
    {
     "name": "stdout",
     "output_type": "stream",
     "text": [
      "output: tensor([[-4.8343, -2.0328, -3.9286, -0.3171, -2.1788],\n",
      "        [-1.5500, -2.4814, -2.2756, -0.5779, -3.2112],\n",
      "        [-0.9239, -2.6907, -1.7621, -1.3415, -2.2820]],\n",
      "       grad_fn=<LogSoftmaxBackward>)\n"
     ]
    },
    {
     "name": "stderr",
     "output_type": "stream",
     "text": [
      "c:\\Users\\skyous\\.conda\\envs\\pytorch_gpu\\lib\\site-packages\\ipykernel_launcher.py:9: UserWarning: Implicit dimension choice for log_softmax has been deprecated. Change the call to include dim=X as an argument.\n",
      "  if __name__ == '__main__':\n",
      "c:\\Users\\skyous\\.conda\\envs\\pytorch_gpu\\lib\\site-packages\\ipykernel_launcher.py:10: UserWarning: Implicit dimension choice for log_softmax has been deprecated. Change the call to include dim=X as an argument.\n",
      "  # Remove the CWD from sys.path while we load stuff.\n"
     ]
    }
   ],
   "source": [
    "import torch.nn as nn\n",
    "import torch\n",
    "model = nn.LogSoftmax()\n",
    "loss = nn.NLLLoss()\n",
    " # input is of size nBatch x nClasses = 3 x 5\n",
    "input  = torch.autograd.Variable(torch.randn(3, 5), requires_grad=True)\n",
    " # each element in target has to have 0 <= value < nclasses\n",
    "target = torch.autograd.Variable(torch.LongTensor([1, 0, 4]))\n",
    "print(\"output:\",model(input))\n",
    "output = loss(model(input), target)"
   ]
  },
  {
   "cell_type": "code",
   "execution_count": 6,
   "metadata": {},
   "outputs": [
    {
     "name": "stdout",
     "output_type": "stream",
     "text": [
      "tensor(1.9550, grad_fn=<NllLossBackward>)\n"
     ]
    }
   ],
   "source": [
    "print(output)"
   ]
  },
  {
   "cell_type": "code",
   "execution_count": 7,
   "metadata": {},
   "outputs": [
    {
     "name": "stdout",
     "output_type": "stream",
     "text": [
      "tensor(1.3864, grad_fn=<NllLossBackward>)\n"
     ]
    }
   ],
   "source": [
    "m = nn.LogSoftmax(dim=1)\n",
    "loss = nn.NLLLoss()\n",
    "# input is of size N x C = 3 x 5\n",
    "input = torch.randn(3, 5, requires_grad=True)\n",
    "# each element in target has to have 0 <= value < C\n",
    "target = torch.tensor([1, 0, 4])\n",
    "output = loss(m(input), target)\n",
    "print(output)\n",
    "output.backward()"
   ]
  },
  {
   "cell_type": "code",
   "execution_count": 8,
   "metadata": {},
   "outputs": [
    {
     "name": "stdout",
     "output_type": "stream",
     "text": [
      "tensor([[-0.6835, -2.3643, -2.0007, -2.2144, -1.8537],\n",
      "        [-1.2508, -1.2754, -3.7920, -1.2862, -1.9985],\n",
      "        [-2.3510, -2.2748, -1.7751, -2.9567, -0.5439]],\n",
      "       grad_fn=<LogSoftmaxBackward>)\n"
     ]
    }
   ],
   "source": [
    "print(m(input))"
   ]
  },
  {
   "cell_type": "code",
   "execution_count": 9,
   "metadata": {},
   "outputs": [
    {
     "data": {
      "text/plain": [
       "1.3863333333333332"
      ]
     },
     "execution_count": 9,
     "metadata": {},
     "output_type": "execute_result"
    }
   ],
   "source": [
    "(2.3643+1.2508+0.5439)/3\n"
   ]
  },
  {
   "cell_type": "code",
   "execution_count": 10,
   "metadata": {},
   "outputs": [],
   "source": [
    "a = [4927,546,5104,8956,6041,3991,6162]"
   ]
  },
  {
   "cell_type": "code",
   "execution_count": 14,
   "metadata": {},
   "outputs": [
    {
     "name": "stdout",
     "output_type": "stream",
     "text": [
      "35727\n",
      "0.13790690514176954\n",
      "0.01528255940885045\n",
      "0.1428611414336496\n",
      "0.25067875836202314\n",
      "0.16908780474151203\n",
      "0.11170823186945447\n",
      "0.1724745990427408\n"
     ]
    }
   ],
   "source": [
    "sum = 0\n",
    "for i in a:\n",
    "    sum = sum + i\n",
    "print(sum)\n",
    "\n",
    "for i in a:\n",
    "    print(i/sum)"
   ]
  }
 ],
 "metadata": {
  "interpreter": {
   "hash": "ef3f88ea032ca5eadc72d8e271f89b1b654f1800b4f813f7fe03f70dd87453a7"
  },
  "kernelspec": {
   "display_name": "Python 3.6.2 ('pytorch_gpu')",
   "language": "python",
   "name": "python3"
  },
  "language_info": {
   "codemirror_mode": {
    "name": "ipython",
    "version": 3
   },
   "file_extension": ".py",
   "mimetype": "text/x-python",
   "name": "python",
   "nbconvert_exporter": "python",
   "pygments_lexer": "ipython3",
   "version": "3.6.2"
  },
  "orig_nbformat": 4
 },
 "nbformat": 4,
 "nbformat_minor": 2
}
